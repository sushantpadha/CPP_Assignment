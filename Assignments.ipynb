{
 "cells": [
  {
   "cell_type": "markdown",
   "metadata": {},
   "source": [
    "# **Basic Python**"
   ]
  },
  {
   "cell_type": "markdown",
   "metadata": {},
   "source": [
    "## 1.a \n",
    "Give a function F that takes a single argument n. This function should print a sequence of n strings as described in the examples below: <br>\n",
    "Ex: **n = 3**\n",
    "\n",
    "--A--<br>\n",
    "-BAB-<br>\n",
    "CBABC<br>\n",
    "\n",
    "**n = 4**\n",
    "\n",
    "---A---<br>\n",
    "--BAB--<br>\n",
    "-CBABC-<br>\n",
    "DCBABCD"
   ]
  },
  {
   "cell_type": "code",
   "execution_count": 1,
   "metadata": {},
   "outputs": [
    {
     "name": "stdout",
     "output_type": "stream",
     "text": [
      "---------A---------\n",
      "--------BAB--------\n",
      "-------CBABC-------\n",
      "------DCBABCD------\n",
      "-----EDCBABCDE-----\n",
      "----FEDCBABCDEF----\n",
      "---GFEDCBABCDEFG---\n",
      "--HGFEDCBABCDEFGH--\n",
      "-IHGFEDCBABCDEFGHI-\n",
      "JIHGFEDCBABCDEFGHIJ\n",
      "-----A-----\n",
      "----BAB----\n",
      "---CBABC---\n",
      "--DCBABCD--\n",
      "-EDCBABCDE-\n",
      "FEDCBABCDEF\n"
     ]
    }
   ],
   "source": [
    "def F(n):\n",
    "    for i in range(n):\n",
    "        print(\"-\" * (n - 1 - i), end='')\n",
    "\n",
    "        for j in range(2*i + 1):\n",
    "            print(chr(ord('A') + abs(j - i)), end='')\n",
    "        \n",
    "        print(\"-\" * (n - 1 - i))\n",
    "\n",
    "# Tests\n",
    "F(10)\n",
    "F(6)"
   ]
  },
  {
   "cell_type": "markdown",
   "metadata": {},
   "source": [
    "## 1.b\n",
    "Make a function F that takes only one argument, a dictionary(dict) d.\n",
    "The keys of d are integers and the values of d are a tuple of type (x (int), y (int)).\n",
    "You must print out the dict in the format \"-key-, -x-, -y-\" with each entry in a new line. Print it for each of the three sorted orders, by key values ascending, by x values descending, by y values ascending."
   ]
  },
  {
   "cell_type": "code",
   "execution_count": 2,
   "metadata": {},
   "outputs": [
    {
     "name": "stdout",
     "output_type": "stream",
     "text": [
      "-1-, -1-, -2-\n",
      "-2-, --1-, -4-\n",
      "-4-, -2-, -3-\n",
      "-5-, --4-, -3-\n",
      "-4-, -2-, -3-\n",
      "-1-, -1-, -2-\n",
      "-2-, --1-, -4-\n",
      "-5-, --4-, -3-\n",
      "-1-, -1-, -2-\n",
      "-4-, -2-, -3-\n",
      "-5-, --4-, -3-\n",
      "-2-, --1-, -4-\n",
      "--8-, -4-, -2-\n",
      "-5-, -9-, --10-\n",
      "-6-, --3-, -4-\n",
      "-7-, -2-, -1-\n",
      "-5-, -9-, --10-\n",
      "--8-, -4-, -2-\n",
      "-7-, -2-, -1-\n",
      "-6-, --3-, -4-\n",
      "-5-, -9-, --10-\n",
      "-7-, -2-, -1-\n",
      "--8-, -4-, -2-\n",
      "-6-, --3-, -4-\n"
     ]
    }
   ],
   "source": [
    "def F(d : dict):\n",
    "    # make list of 3-tuples (key, x, y) and use sort and a generic print function\n",
    "    triples = [(k, d[k][0], d[k][1]) for k in d]\n",
    "    \n",
    "    # assumes t is sorted\n",
    "    def print_triples():\n",
    "        for i, j, k in triples:\n",
    "            print(f\"-{i}-, -{j}-, -{k}-\")\n",
    "    \n",
    "    # by key, asc\n",
    "    triples.sort(key = lambda x: x[0])\n",
    "    print_triples()\n",
    "    # by x, dsc\n",
    "    triples.sort(key = lambda x: x[1], reverse=True)\n",
    "    print_triples()\n",
    "    # by y, asc\n",
    "    triples.sort(key = lambda x: x[2])\n",
    "    print_triples()\n",
    "\n",
    "# Tests\n",
    "F({1 : (1, 2), 2 : (-1, 4), 5 : (-4, 3), 4 : (2, 3)})\n",
    "F({-8 : (4, 2), 6 : (-3, 4), 7 : (2, 1), 5 : (9, -10)})"
   ]
  },
  {
   "cell_type": "markdown",
   "metadata": {},
   "source": [
    "## 2 Working with Student Records\n",
    "\n",
    "Use the data in **student_records.csv** to complete the given tasks. Do not include any external libraries. Use a Python dictionary if required.\n",
    "\n",
    "### Reference\n",
    "- [Python Dictionaries](https://www.w3schools.com/python/python_dictionaries.asp)\n"
   ]
  },
  {
   "cell_type": "markdown",
   "metadata": {},
   "source": [
    "#### 2.a: open the student_records.csv file and print out the first 10 rows"
   ]
  },
  {
   "cell_type": "code",
   "execution_count": 3,
   "metadata": {},
   "outputs": [
    {
     "name": "stdout",
     "output_type": "stream",
     "text": [
      "588946,MA,3,EC250,hasmed_elective,AB\n",
      "145372,EP,4,EP407,hasmed_elective,CC\n",
      "834515,MA,8,EP885,hasmed_elective,BB\n",
      "344265,CSE,6,CSE699,honours,AB\n",
      "358405,MA,3,EE460,minor,AP\n",
      "781075,CE,8,CE540,honours,CC\n",
      "180828,CSE,6,CE880,minor,AB\n",
      "981238,MM,4,CSE226,minor,AB\n",
      "836881,MM,8,MM530,core,AA\n",
      "310604,EE,8,EE202,core,AB\n"
     ]
    }
   ],
   "source": [
    "file = open('student_records.csv', 'r')\n",
    "\n",
    "# skip over header line\n",
    "next(file)\n",
    "\n",
    "# read the file into a list of lists\n",
    "\n",
    "# ~4000 rows and 6 fields is small enough for this\n",
    "# if it were too big, one can use `for line in file` iterator\n",
    "# to process line by line\n",
    "data = []\n",
    "for line in file:\n",
    "    row = line.strip().split(',')\n",
    "    row[0] = int(row[0])  # roll no\n",
    "    row[2] = int(row[2])  # credits\n",
    "    data.append(row)\n",
    "\n",
    "for i, row in enumerate(data):\n",
    "    print(','.join(map(str, row)))\n",
    "    if i >= 9:\n",
    "        break"
   ]
  },
  {
   "cell_type": "markdown",
   "metadata": {},
   "source": [
    "#### 2.b: Print out the total credits and calculte CPI of each student. \n",
    "CPI is the weighted average of core courses, and electives (weights being the letter grades converted to number AP,AA=10, AB=9, BB=9, BC=7, CC=6)"
   ]
  },
  {
   "cell_type": "code",
   "execution_count": 4,
   "metadata": {},
   "outputs": [
    {
     "name": "stdout",
     "output_type": "stream",
     "text": [
      "588946: 8.69\n",
      "145372: 7.75\n",
      "834515: 8.22\n",
      "344265: 8.70\n",
      "358405: 8.59\n",
      "781075: 8.17\n",
      "180828: 8.10\n",
      "981238: 8.24\n",
      "836881: 8.39\n",
      "310604: 8.33\n",
      "847809: 8.21\n",
      "773982: 8.07\n",
      "500658: 8.17\n",
      "810863: 8.15\n",
      "124663: 8.13\n",
      "364146: 8.40\n",
      "871746: 8.21\n",
      "270007: 8.03\n",
      "597353: 8.12\n",
      "986057: 8.07\n",
      "718510: 8.43\n",
      "836431: 7.90\n",
      "379479: 8.25\n",
      "582912: 8.66\n",
      "788020: 8.02\n",
      "613401: 8.44\n",
      "144528: 8.16\n",
      "485484: 8.36\n",
      "680096: 8.05\n",
      "199713: 8.29\n",
      "851029: 8.32\n",
      "845623: 8.38\n",
      "150503: 8.29\n",
      "214270: 7.88\n",
      "517837: 8.58\n",
      "482623: 8.40\n",
      "721490: 8.34\n",
      "955757: 8.29\n",
      "589528: 8.73\n",
      "143856: 8.49\n",
      "571782: 8.42\n",
      "973158: 8.51\n",
      "703403: 8.34\n",
      "960395: 8.63\n",
      "521087: 7.91\n",
      "461971: 8.29\n",
      "879634: 8.74\n",
      "716985: 8.18\n",
      "194063: 8.14\n",
      "265922: 8.35\n",
      "283796: 8.82\n",
      "203200: 8.79\n",
      "301135: 8.33\n",
      "327122: 8.16\n",
      "381526: 8.43\n",
      "534763: 7.93\n",
      "391848: 8.44\n",
      "329535: 8.23\n",
      "971123: 7.96\n",
      "207443: 8.30\n",
      "488661: 8.60\n",
      "782129: 8.54\n",
      "928288: 8.51\n",
      "581858: 8.05\n",
      "733782: 8.42\n",
      "282482: 8.29\n",
      "572815: 8.32\n",
      "608952: 8.33\n",
      "628849: 8.72\n",
      "630568: 8.24\n",
      "388969: 8.31\n",
      "159438: 8.38\n",
      "478606: 8.32\n",
      "995208: 7.78\n",
      "841365: 7.99\n",
      "870642: 8.02\n",
      "970791: 8.12\n",
      "143142: 8.78\n",
      "998293: 8.70\n",
      "907454: 8.27\n",
      "681499: 8.26\n",
      "888886: 8.27\n",
      "608522: 8.61\n",
      "362471: 7.93\n",
      "465496: 8.30\n",
      "208100: 8.59\n",
      "138296: 8.28\n",
      "775967: 8.43\n",
      "692318: 8.17\n",
      "461584: 8.24\n",
      "626000: 8.43\n",
      "458200: 8.39\n",
      "581065: 8.22\n",
      "787967: 8.41\n",
      "381227: 8.22\n",
      "750259: 8.35\n",
      "881983: 8.33\n",
      "294697: 8.57\n",
      "816041: 8.46\n",
      "993835: 8.43\n"
     ]
    }
   ],
   "source": [
    "letter_grades = {\n",
    "    'AP': 10,\n",
    "    'AA': 10,\n",
    "    'AB': 9,\n",
    "    'BB': 8,  # assuming this is a typo in the above\n",
    "    'BC': 7,\n",
    "    'CC': 6\n",
    "}\n",
    "\n",
    "# roll_no: [weighted_sum, total_credits]\n",
    "students = {}\n",
    "\n",
    "for roll, _, credits, _, _, grade in data:\n",
    "    grade = letter_grades[grade]\n",
    "    \n",
    "    if not students.get(roll):\n",
    "        students[roll] = [0, 0]\n",
    "\n",
    "    students[roll][0] += credits * grade\n",
    "    students[roll][1] += credits\n",
    "\n",
    "for r in students:\n",
    "    CPI = students[r][0] / students[r][1]\n",
    "    print(f\"{r}: {CPI:.2f}\")  # print upto 2 dec places"
   ]
  },
  {
   "cell_type": "markdown",
   "metadata": {},
   "source": [
    "#### 2.c: Print out the names of all students who meet the graduation requirements \n",
    "Atleast 20 credist of core course, 15 credits of department elective, 10 credits of flexible elective and 5 credits of hasmed electives"
   ]
  },
  {
   "cell_type": "code",
   "execution_count": 5,
   "metadata": {},
   "outputs": [],
   "source": [
    "indices = {\n",
    "    'core': 0,\n",
    "    'department_elective': 1,\n",
    "    'felxible_elective': 2,\n",
    "    'hasmed_elective': 3\n",
    "}\n",
    "\n",
    "# roll_no: [core, dep_elec, flex_elec, hasmed_elec]\n",
    "students = {}\n",
    "\n",
    "for roll, _, credits, _, ctype, _ in data:\n",
    "    index = indices.get(ctype)\n",
    "    \n",
    "    # course is not one of core, dep elec, flex elec, hasmed elec\n",
    "    if index is None:\n",
    "        continue\n",
    "    \n",
    "    if not students.get(roll):\n",
    "        students[roll] = [0, 0, 0, 0]\n",
    "    \n",
    "    students[roll][index] += credits\n",
    "\n",
    "for r in students:\n",
    "    if students[r][0] >= 20 and students[r][1] >= 15 and students[r][2] >= 10 and students[r][3] >= 5:\n",
    "        print(r)"
   ]
  },
  {
   "cell_type": "markdown",
   "metadata": {},
   "source": [
    "#### 2.d: Print out the names of all students who completed a minor \n",
    "Atleast 10 credits with minor tag in a specific department"
   ]
  },
  {
   "cell_type": "code",
   "execution_count": 6,
   "metadata": {},
   "outputs": [
    {
     "name": "stdout",
     "output_type": "stream",
     "text": [
      "358405\n",
      "180828\n",
      "981238\n",
      "847809\n",
      "270007\n",
      "781075\n",
      "986057\n",
      "124663\n",
      "364146\n",
      "517837\n",
      "721490\n",
      "150503\n",
      "571782\n",
      "716985\n",
      "194063\n",
      "265922\n",
      "482623\n",
      "329535\n",
      "207443\n",
      "810863\n",
      "973158\n",
      "143142\n",
      "970791\n",
      "907454\n",
      "888886\n",
      "608522\n",
      "608952\n",
      "143856\n",
      "773982\n",
      "960395\n",
      "283796\n",
      "461584\n",
      "879634\n",
      "597353\n",
      "845623\n",
      "465496\n",
      "718510\n",
      "534763\n",
      "680096\n",
      "836881\n",
      "787967\n",
      "344265\n",
      "581858\n",
      "391848\n",
      "485484\n",
      "775967\n",
      "138296\n",
      "381526\n",
      "681499\n",
      "816041\n",
      "971123\n",
      "199713\n",
      "630568\n",
      "379479\n",
      "362471\n",
      "703403\n",
      "388969\n",
      "836431\n",
      "582912\n",
      "381227\n",
      "478606\n",
      "159438\n",
      "733782\n",
      "782129\n",
      "144528\n",
      "851029\n",
      "881983\n",
      "458200\n",
      "998293\n",
      "628849\n",
      "995208\n",
      "613401\n",
      "301135\n",
      "500658\n",
      "488661\n",
      "788020\n",
      "626000\n",
      "955757\n",
      "841365\n",
      "750259\n",
      "572815\n",
      "521087\n",
      "214270\n",
      "461971\n",
      "692318\n",
      "145372\n",
      "588946\n",
      "834515\n",
      "208100\n",
      "871746\n",
      "327122\n",
      "581065\n",
      "203200\n",
      "294697\n",
      "993835\n",
      "282482\n"
     ]
    }
   ],
   "source": [
    "# roll_no: { dept: minor_credits, ... }\n",
    "students = {}\n",
    "\n",
    "for roll, dept, credits, _, ctype, _ in data:\n",
    "    # course is not a minor\n",
    "    if ctype != 'minor':\n",
    "        continue\n",
    "    \n",
    "    if not students.get(roll):\n",
    "        students[roll] = {}\n",
    "    \n",
    "    if not students[roll].get(dept):\n",
    "        students[roll][dept] = 0\n",
    "    \n",
    "    students[roll][dept] += credits\n",
    "\n",
    "for r in students:\n",
    "    for dept in students[r]:\n",
    "        if students[r][dept] >= 10:\n",
    "            print(r)\n",
    "            break"
   ]
  },
  {
   "cell_type": "markdown",
   "metadata": {},
   "source": [
    "#### 2.e: Print out the names of all students who completed a honours\n",
    "Atleast 10 credits with honours tag and 20 core credits"
   ]
  },
  {
   "cell_type": "code",
   "execution_count": 7,
   "metadata": {},
   "outputs": [
    {
     "name": "stdout",
     "output_type": "stream",
     "text": [
      "588946\n",
      "145372\n",
      "834515\n",
      "781075\n",
      "836881\n",
      "310604\n",
      "773982\n",
      "500658\n",
      "810863\n",
      "124663\n",
      "364146\n",
      "871746\n",
      "986057\n",
      "718510\n",
      "379479\n",
      "582912\n",
      "788020\n",
      "613401\n",
      "144528\n",
      "485484\n",
      "199713\n",
      "845623\n",
      "150503\n",
      "214270\n",
      "517837\n",
      "482623\n",
      "721490\n",
      "955757\n",
      "589528\n",
      "143856\n",
      "571782\n",
      "973158\n",
      "703403\n",
      "960395\n",
      "521087\n",
      "461971\n",
      "879634\n",
      "716985\n",
      "265922\n",
      "283796\n",
      "203200\n",
      "327122\n",
      "534763\n",
      "391848\n",
      "971123\n",
      "207443\n",
      "488661\n",
      "782129\n",
      "928288\n",
      "581858\n",
      "282482\n",
      "572815\n",
      "608952\n",
      "628849\n",
      "630568\n",
      "388969\n",
      "159438\n",
      "870642\n",
      "970791\n",
      "143142\n",
      "998293\n",
      "681499\n",
      "888886\n",
      "608522\n",
      "362471\n",
      "465496\n",
      "208100\n",
      "692318\n",
      "626000\n",
      "458200\n",
      "581065\n",
      "787967\n",
      "750259\n",
      "881983\n",
      "294697\n"
     ]
    }
   ],
   "source": [
    "# roll_no: [core_credits, honour_credits]\n",
    "students = {}\n",
    "\n",
    "for roll, _, credits, _, ctype, _ in data:\n",
    "    if not students.get(roll):\n",
    "        students[roll] = [0, 0]\n",
    "    \n",
    "    # not checking dept coz every student can only have one dept\n",
    "    # to do core and honours courses in\n",
    "    if ctype == 'core':\n",
    "        students[roll][0] += credits\n",
    "    if ctype == 'honours':\n",
    "        students[roll][1] += credits\n",
    "\n",
    "for r in students:\n",
    "    if students[r][0] >= 20 and students[r][1] >= 10:\n",
    "        print(r)"
   ]
  },
  {
   "cell_type": "code",
   "execution_count": 8,
   "metadata": {},
   "outputs": [],
   "source": [
    "\n",
    "# close file\n",
    "file.close()"
   ]
  },
  {
   "cell_type": "markdown",
   "metadata": {},
   "source": [
    "# **SciPy** "
   ]
  },
  {
   "cell_type": "markdown",
   "metadata": {},
   "source": [
    "## Part A\n",
    "Minimize the function $f(x, y) = 2(x - y - 3)^2 + 4(x + 2y + 1)^4$.<br>\n",
    "With the constraints : $ x - y \\ge -3, (x + 2)^2 + (y + 1)^2 \\le 5$ <br>\n",
    "Using scipy.optimize.minimize with constraints. (Hint: Look at the examples in the official documentation)"
   ]
  },
  {
   "cell_type": "code",
   "execution_count": 9,
   "metadata": {},
   "outputs": [
    {
     "data": {
      "text/plain": [
       " message: Optimization terminated successfully\n",
       " success: True\n",
       "  status: 0\n",
       "     fun: 7.345026216977383\n",
       "       x: [ 2.349e-01 -9.285e-01]\n",
       "     nit: 9\n",
       "     jac: [-1.120e+01 -3.582e-01]\n",
       "    nfev: 31\n",
       "    njev: 9"
      ]
     },
     "execution_count": 9,
     "metadata": {},
     "output_type": "execute_result"
    }
   ],
   "source": [
    "from scipy.optimize import minimize\n",
    "\n",
    "f = lambda x: 2 * (x[0] - x[1] - 3) ** 2 + 4 * (x[0] + 2 * x[1] + 1)**4\n",
    "# initial guess\n",
    "x0 = (0, 0)\n",
    "\n",
    "cons = [\n",
    "    {'type': 'ineq', 'fun': lambda x: x[0] - x[1] + 3},\n",
    "    {'type': 'ineq', 'fun': lambda x: 5 - (x[0] + 2)**2 - (x[1] + 1)**2}\n",
    "]\n",
    "\n",
    "res = minimize(f, x0, constraints=cons)\n",
    "res"
   ]
  },
  {
   "cell_type": "markdown",
   "metadata": {},
   "source": [
    "# Part B\n",
    "Evaluate the line integral of the function $f(x, y) = x^2 + y^4$ along the circle $ x^2 + y^2 = 3 $ anticlockwise (scalar integral, not vector). You must use scipy for integration but you may use parameterization"
   ]
  },
  {
   "cell_type": "code",
   "execution_count": 10,
   "metadata": {},
   "outputs": [
    {
     "data": {
      "text/plain": [
       "53.053631403850865"
      ]
     },
     "execution_count": 10,
     "metadata": {},
     "output_type": "execute_result"
    }
   ],
   "source": [
    "# x = sqrt3 * cos t\n",
    "# y = sqrt3 * sin t\n",
    "# 0 <= t <= 2pi\n",
    "\n",
    "import numpy as np\n",
    "from scipy.integrate import quad\n",
    "\n",
    "# sqrt3 for |γ'(t)|\n",
    "f = lambda t: np.sqrt(3) * (3 * (np.cos(t))**2 + 9 * (np.sin(t))**4)\n",
    "\n",
    "integral = quad(f, 0, 2 * np.pi)\n",
    "integral[0]"
   ]
  },
  {
   "cell_type": "markdown",
   "metadata": {},
   "source": [
    "# **Numpy**"
   ]
  },
  {
   "cell_type": "markdown",
   "metadata": {},
   "source": [
    "### Read Lisan_Al_Gaib.pdf for problem description and complete the following functions"
   ]
  },
  {
   "cell_type": "code",
   "execution_count": 11,
   "metadata": {},
   "outputs": [],
   "source": [
    "import time # to time the execution\n",
    "import numpy as np\n",
    "import matplotlib.pyplot as plt"
   ]
  },
  {
   "cell_type": "code",
   "execution_count": 12,
   "metadata": {},
   "outputs": [],
   "source": [
    "### TODO 1\n",
    "### Load data from data_path\n",
    "### Check the input file spice_locations.txt to understand the Data Format\n",
    "### Return : np array of size Nx2\n",
    "def load_data(data_path):\n",
    "    # from https://numpy.org/doc/2.1/user/how-to-io.html\n",
    "    return np.loadtxt(data_path, delimiter=',')"
   ]
  },
  {
   "cell_type": "code",
   "execution_count": 13,
   "metadata": {},
   "outputs": [],
   "source": [
    "### TODO 2.1\n",
    "### If init_centers is None, initialize the centers by selecting K data points at random without replacement\n",
    "### Else, use the centers provided in init_centers\n",
    "### Return : np array of size Kx2\n",
    "def initialise_centers(data, K, init_centers=None):\n",
    "    if init_centers is None:\n",
    "        # generate indices using randint in [0, N) of size K\n",
    "        init_centers = data[np.random.randint(0, data.shape[0], size=(K,))]\n",
    "    return init_centers\n",
    "    "
   ]
  },
  {
   "cell_type": "code",
   "execution_count": 14,
   "metadata": {},
   "outputs": [],
   "source": [
    "### TODO 2.2\n",
    "### Initialize the labels to all ones to size (N,) where N is the number of data points\n",
    "### Return : np array of size N\n",
    "def initialise_labels(data):\n",
    "    return np.ones(shape=(data.shape[0],))"
   ]
  },
  {
   "cell_type": "code",
   "execution_count": 15,
   "metadata": {},
   "outputs": [],
   "source": [
    "### TODO 3.1 : E step\n",
    "### For Each data point, find the distance to each center\n",
    "### Return : np array of size NxK\n",
    "def calculate_distances(data, centers):\n",
    "    # from https://numpy.org/doc/stable/user/basics.broadcasting.html\n",
    "    # reshape data    (N, 2) -> (N, 1, 2)\n",
    "    # reshape centers (K, 2) -> (1, K, 2)\n",
    "    # then take norm along 3rd axis\n",
    "\n",
    "    data = data[:, np.newaxis, :]\n",
    "    centers = centers[np.newaxis, :, :]\n",
    "\n",
    "    return np.linalg.norm(data - centers, axis=2)"
   ]
  },
  {
   "cell_type": "code",
   "execution_count": 16,
   "metadata": {},
   "outputs": [],
   "source": [
    "### TODO 3.2 : E step\n",
    "### For Each data point, assign the label of the nearest center\n",
    "### Return : np array of size N\n",
    "def update_labels(distances):\n",
    "    return np.array([np.argmin(d) for d in distances])"
   ]
  },
  {
   "cell_type": "code",
   "execution_count": 17,
   "metadata": {},
   "outputs": [],
   "source": [
    "### TODO 4 : M step\n",
    "### Update the centers to the mean of the data points assigned to it\n",
    "### Return : np array of size Kx2\n",
    "def update_centers(data, labels, K):\n",
    "    # sum[0], sum[1], count for every k=0,...K-1\n",
    "    means = np.zeros(shape=(K,3))\n",
    "\n",
    "    for i, label in enumerate(labels):\n",
    "        means[label][0] += data[i][0]\n",
    "        means[label][1] += data[i][1]\n",
    "        means[label][2] += 1\n",
    "        \n",
    "    centers = np.empty(shape=(K,2))\n",
    "\n",
    "    for i, (total_x, total_y, count) in enumerate(means):\n",
    "        centers[i][0] = total_x / count\n",
    "        centers[i][1] = total_y / count\n",
    "        \n",
    "    return centers"
   ]
  },
  {
   "cell_type": "code",
   "execution_count": 18,
   "metadata": {},
   "outputs": [],
   "source": [
    "### TODO 6 : Check convergence\n",
    "### Check if the labels have changed from the previous iteration\n",
    "### Return : True / False\n",
    "def check_termination(labels1, labels2):\n",
    "    return np.all(labels1 == labels2)"
   ]
  },
  {
   "cell_type": "code",
   "execution_count": 19,
   "metadata": {},
   "outputs": [],
   "source": [
    "### DON'T CHANGE ANYTHING IN THE FOLLOWING FUNCTION\n",
    "def kmeans(data_path:str, K:int, init_centers):\n",
    "    '''\n",
    "    Input :\n",
    "        data (type str): path to the file containing the data\n",
    "        K (type int): number of clusters\n",
    "        init_centers (type numpy.ndarray): initial centers. shape = (K, 2) or None\n",
    "    Output :\n",
    "        centers (type numpy.ndarray): final centers. shape = (K, 2)\n",
    "        labels (type numpy.ndarray): label of each data point. shape = (N,)\n",
    "        time (type float): time taken by the algorithm to converge in seconds\n",
    "    N is the number of data points each of shape (2,)\n",
    "    '''\n",
    "    data = load_data(data_path)    \n",
    "    centers = initialise_centers(data, K, init_centers)\n",
    "    labels = initialise_labels(data)\n",
    "\n",
    "    start_time = time.time() # Time stamp \n",
    "\n",
    "    while True:\n",
    "        distances = calculate_distances(data, centers)\n",
    "        labels_new = update_labels(distances)\n",
    "        centers = update_centers(data, labels_new, K)\n",
    "        if check_termination(labels, labels_new): break\n",
    "        else: labels = labels_new\n",
    " \n",
    "    end_time = time.time() # Time stamp after the algorithm ends\n",
    "    return centers, labels, end_time - start_time "
   ]
  },
  {
   "cell_type": "code",
   "execution_count": 20,
   "metadata": {},
   "outputs": [],
   "source": [
    "### TODO 7\n",
    "def visualise(data_path, labels, centers):\n",
    "    data = load_data(data_path)\n",
    "\n",
    "    # Scatter plot of the data points\n",
    "    plt.scatter(data[:, 0], data[:, 1], c=labels, s=50, cmap='viridis')\n",
    "    plt.scatter(centers[:, 0], centers[:, 1], c='black', s=200, alpha=0.5)\n",
    "\n",
    "    ### Set title as 'K-means clustering'\n",
    "    plt.title(\"K-means clustering\")\n",
    "\n",
    "    ### Set xlabel as 'Longitude'\n",
    "    plt.xlabel(\"Longitude\")\n",
    "\n",
    "    ### Set ylabel as 'Latitude'\n",
    "    plt.ylabel(\"Latitude\")\n",
    "\n",
    "    ### Save the plot as 'kmeans.png'\n",
    "    plt.savefig('kmeans.png')\n",
    "\n",
    "    ## DO NOT CHANGE THE FOLLOWING LINE\n",
    "    return plt"
   ]
  },
  {
   "cell_type": "code",
   "execution_count": 21,
   "metadata": {},
   "outputs": [
    {
     "name": "stdout",
     "output_type": "stream",
     "text": [
      "Time taken for the algorithm to converge: 0.0\n"
     ]
    },
    {
     "data": {
      "text/plain": [
       "<module 'matplotlib.pyplot' from 'c:\\\\Users\\\\susha\\\\AppData\\\\Local\\\\Programs\\\\Python\\\\Python312\\\\Lib\\\\site-packages\\\\matplotlib\\\\pyplot.py'>"
      ]
     },
     "execution_count": 21,
     "metadata": {},
     "output_type": "execute_result"
    },
    {
     "data": {
      "image/png": "[encoded data removed]",
      "text/plain": [
       "<Figure size 640x480 with 1 Axes>"
      ]
     },
     "metadata": {},
     "output_type": "display_data"
    }
   ],
   "source": [
    "### After you have completed the above functions, run the following code to generate the plot\n",
    "data_path = 'spice_locations.txt'\n",
    "K, init_centers = 2, None\n",
    "centers, labels, time_taken = kmeans(data_path, K, init_centers)\n",
    "print('Time taken for the algorithm to converge:', time_taken)\n",
    "visualise(data_path, labels, centers)"
   ]
  }
 ],
 "metadata": {
  "kernelspec": {
   "display_name": "Python 3",
   "language": "python",
   "name": "python3"
  },
  "language_info": {
   "codemirror_mode": {
    "name": "ipython",
    "version": 3
   },
   "file_extension": ".py",
   "mimetype": "text/x-python",
   "name": "python",
   "nbconvert_exporter": "python",
   "pygments_lexer": "ipython3",
   "version": "3.12.7"
  }
 },
 "nbformat": 4,
 "nbformat_minor": 2
}
